{
 "cells": [
  {
   "cell_type": "markdown",
   "metadata": {},
   "source": [
    "# PyTorch model with 5 modes (for now)\n",
    "*Step 1:* Collect and label data</br>\n",
    "*Step 2:* process data and normalize it!</br>\n",
    "*Step 3:* Convert text to numeric vectors</br>\n",
    "*Step 4:* Train a Lightweight Classifier</br>\n",
    "*Step 5:* Evaluate Performance</br>\n",
    "*Step 6:* Save and Load model to the project</br>\n",
    "\n",
    "### SQL_mode, insight_mode, Comparison_mode, visualization_mode, prediction_mode\n"
   ]
  },
  {
   "cell_type": "code",
   "execution_count": 13,
   "metadata": {},
   "outputs": [],
   "source": [
    "import pandas as pd\n",
    "import numpy as np\n",
    "import torch\n",
    "from sklearn.model_selection import train_test_split"
   ]
  },
  {
   "cell_type": "code",
   "execution_count": 14,
   "metadata": {},
   "outputs": [
    {
     "data": {
      "text/html": [
       "<div>\n",
       "<style scoped>\n",
       "    .dataframe tbody tr th:only-of-type {\n",
       "        vertical-align: middle;\n",
       "    }\n",
       "\n",
       "    .dataframe tbody tr th {\n",
       "        vertical-align: top;\n",
       "    }\n",
       "\n",
       "    .dataframe thead th {\n",
       "        text-align: right;\n",
       "    }\n",
       "</style>\n",
       "<table border=\"1\" class=\"dataframe\">\n",
       "  <thead>\n",
       "    <tr style=\"text-align: right;\">\n",
       "      <th></th>\n",
       "      <th>text</th>\n",
       "      <th>label</th>\n",
       "    </tr>\n",
       "  </thead>\n",
       "  <tbody>\n",
       "    <tr>\n",
       "      <th>0</th>\n",
       "      <td>Which period had better transactions?</td>\n",
       "      <td>comparison_mode</td>\n",
       "    </tr>\n",
       "    <tr>\n",
       "      <th>1</th>\n",
       "      <td>Which period had better expenses?</td>\n",
       "      <td>comparison_mode</td>\n",
       "    </tr>\n",
       "    <tr>\n",
       "      <th>2</th>\n",
       "      <td>How does conversion rate differ between regions?</td>\n",
       "      <td>comparison_mode</td>\n",
       "    </tr>\n",
       "    <tr>\n",
       "      <th>3</th>\n",
       "      <td>How does production costs differ between regions?</td>\n",
       "      <td>comparison_mode</td>\n",
       "    </tr>\n",
       "    <tr>\n",
       "      <th>4</th>\n",
       "      <td>Compare customers from this quarter to last qu...</td>\n",
       "      <td>comparison_mode</td>\n",
       "    </tr>\n",
       "  </tbody>\n",
       "</table>\n",
       "</div>"
      ],
      "text/plain": [
       "                                                text            label\n",
       "0              Which period had better transactions?  comparison_mode\n",
       "1                  Which period had better expenses?  comparison_mode\n",
       "2   How does conversion rate differ between regions?  comparison_mode\n",
       "3  How does production costs differ between regions?  comparison_mode\n",
       "4  Compare customers from this quarter to last qu...  comparison_mode"
      ]
     },
     "execution_count": 14,
     "metadata": {},
     "output_type": "execute_result"
    }
   ],
   "source": [
    "### Prepare the data and join into one df\n",
    "comparison_df = pd.read_csv(\"training_data_modes/comparison_mode.csv\")\n",
    "insight_df = pd.read_csv(\"training_data_modes/insight_mode.csv\")\n",
    "prediction_df = pd.read_csv(\"training_data_modes/prediction_mode.csv\")\n",
    "sql_df = pd.read_csv(\"training_data_modes/sql_mode.csv\")\n",
    "visualization_df = pd.read_csv(\"training_data_modes/visualization_mode.csv\")\n",
    "\n",
    "df = pd.concat([comparison_df, insight_df, prediction_df, sql_df, visualization_df])\n",
    "X, y = df['text'], df['label']\n",
    "df.head()"
   ]
  },
  {
   "cell_type": "code",
   "execution_count": 15,
   "metadata": {},
   "outputs": [],
   "source": [
    "#### Shuffle the data and split the train test.\n",
    "\n",
    "X_train, X_test, y_train, y_test = train_test_split(X, y, test_size=0.2, random_state=42)"
   ]
  }
 ],
 "metadata": {
  "kernelspec": {
   "display_name": "Python 3",
   "language": "python",
   "name": "python3"
  },
  "language_info": {
   "codemirror_mode": {
    "name": "ipython",
    "version": 3
   },
   "file_extension": ".py",
   "mimetype": "text/x-python",
   "name": "python",
   "nbconvert_exporter": "python",
   "pygments_lexer": "ipython3",
   "version": "3.10.2"
  }
 },
 "nbformat": 4,
 "nbformat_minor": 2
}
