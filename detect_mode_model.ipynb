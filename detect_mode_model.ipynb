{
 "cells": [
  {
   "cell_type": "markdown",
   "metadata": {},
   "source": [
    "# PyTorch model with 5 modes (for now)\n",
    "*Step 1:* Collect and label data</br>\n",
    "*Step 2:* process data and normalize it!</br>\n",
    "*Step 3:* Convert text to numeric vectors</br>\n",
    "*Step 4:* Train a Lightweight Classifier</br>\n",
    "*Step 5:* Evaluate Performance</br>\n",
    "*Step 6:* Save and Load model to the project</br>\n",
    "\n",
    "### SQL_mode, insight_mode, Comparison_mode, visualization_mode, prediction_mode\n"
   ]
  },
  {
   "cell_type": "code",
   "execution_count": null,
   "metadata": {},
   "outputs": [],
   "source": []
  }
 ],
 "metadata": {
  "kernelspec": {
   "display_name": "Python 3",
   "language": "python",
   "name": "python3"
  },
  "language_info": {
   "name": "python",
   "version": "3.10.2"
  }
 },
 "nbformat": 4,
 "nbformat_minor": 2
}
